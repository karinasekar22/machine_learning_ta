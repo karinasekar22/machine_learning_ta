{
  "nbformat": 4,
  "nbformat_minor": 0,
  "metadata": {
    "colab": {
      "provenance": [],
      "authorship_tag": "ABX9TyOfkRFr22jYED7HyxzjNHsA",
      "include_colab_link": true
    },
    "kernelspec": {
      "name": "python3",
      "display_name": "Python 3"
    },
    "language_info": {
      "name": "python"
    }
  },
  "cells": [
    {
      "cell_type": "markdown",
      "metadata": {
        "id": "view-in-github",
        "colab_type": "text"
      },
      "source": [
        "<a href=\"https://colab.research.google.com/github/karinasekar22/machine_learning_ta/blob/main/Final_Project.ipynb\" target=\"_parent\"><img src=\"https://colab.research.google.com/assets/colab-badge.svg\" alt=\"Open In Colab\"/></a>"
      ]
    },
    {
      "cell_type": "markdown",
      "source": [
        "# Final Project\n",
        "Nama : Karina Sekar Putri Utami  \n",
        "NRP: 3123510613  \n",
        "Kelas: D3 PJJ TI  \n",
        "Study Case : Breast Cancer\n"
      ],
      "metadata": {
        "id": "OjsLLKMHNVax"
      }
    },
    {
      "cell_type": "markdown",
      "source": [
        "##Load Data"
      ],
      "metadata": {
        "id": "xylM6vxhdRE0"
      }
    },
    {
      "cell_type": "code",
      "execution_count": null,
      "metadata": {
        "colab": {
          "base_uri": "https://localhost:8080/"
        },
        "id": "18_OvRk6xlUf",
        "outputId": "7d17f7d3-1bff-4ec8-8a88-2ad270852453"
      },
      "outputs": [
        {
          "output_type": "stream",
          "name": "stdout",
          "text": [
            "Mounted at /content/drive\n"
          ]
        }
      ],
      "source": [
        "from google.colab import drive\n",
        "drive.mount('/content/drive')\n"
      ]
    },
    {
      "cell_type": "code",
      "source": [
        "import pandas as pd\n",
        "import numpy as np\n",
        "dataset = pd.read_csv('/content/drive/MyDrive/Data_Set/breast_cancer.csv')\n",
        "dataset = dataset.drop('id', axis=1)\n",
        "dataset = dataset.drop(columns=['Unnamed: 32'])\n",
        "dataset.head()"
      ],
      "metadata": {
        "colab": {
          "base_uri": "https://localhost:8080/",
          "height": 273
        },
        "id": "IJOB28_DPlRR",
        "outputId": "0aac4e28-f767-4cc0-a377-9072adc71079"
      },
      "execution_count": null,
      "outputs": [
        {
          "output_type": "execute_result",
          "data": {
            "text/plain": [
              "  diagnosis  radius_mean  texture_mean  perimeter_mean  area_mean  \\\n",
              "0         M        17.99         10.38          122.80     1001.0   \n",
              "1         M        20.57         17.77          132.90     1326.0   \n",
              "2         M        19.69         21.25          130.00     1203.0   \n",
              "3         M        11.42         20.38           77.58      386.1   \n",
              "4         M        20.29         14.34          135.10     1297.0   \n",
              "\n",
              "   smoothness_mean  compactness_mean  concavity_mean  concave points_mean  \\\n",
              "0          0.11840           0.27760          0.3001              0.14710   \n",
              "1          0.08474           0.07864          0.0869              0.07017   \n",
              "2          0.10960           0.15990          0.1974              0.12790   \n",
              "3          0.14250           0.28390          0.2414              0.10520   \n",
              "4          0.10030           0.13280          0.1980              0.10430   \n",
              "\n",
              "   symmetry_mean  ...  radius_worst  texture_worst  perimeter_worst  \\\n",
              "0         0.2419  ...         25.38          17.33           184.60   \n",
              "1         0.1812  ...         24.99          23.41           158.80   \n",
              "2         0.2069  ...         23.57          25.53           152.50   \n",
              "3         0.2597  ...         14.91          26.50            98.87   \n",
              "4         0.1809  ...         22.54          16.67           152.20   \n",
              "\n",
              "   area_worst  smoothness_worst  compactness_worst  concavity_worst  \\\n",
              "0      2019.0            0.1622             0.6656           0.7119   \n",
              "1      1956.0            0.1238             0.1866           0.2416   \n",
              "2      1709.0            0.1444             0.4245           0.4504   \n",
              "3       567.7            0.2098             0.8663           0.6869   \n",
              "4      1575.0            0.1374             0.2050           0.4000   \n",
              "\n",
              "   concave points_worst  symmetry_worst  fractal_dimension_worst  \n",
              "0                0.2654          0.4601                  0.11890  \n",
              "1                0.1860          0.2750                  0.08902  \n",
              "2                0.2430          0.3613                  0.08758  \n",
              "3                0.2575          0.6638                  0.17300  \n",
              "4                0.1625          0.2364                  0.07678  \n",
              "\n",
              "[5 rows x 31 columns]"
            ],
            "text/html": [
              "\n",
              "  <div id=\"df-ee98d37f-a90e-422c-b7e3-1a6a5b36ed23\" class=\"colab-df-container\">\n",
              "    <div>\n",
              "<style scoped>\n",
              "    .dataframe tbody tr th:only-of-type {\n",
              "        vertical-align: middle;\n",
              "    }\n",
              "\n",
              "    .dataframe tbody tr th {\n",
              "        vertical-align: top;\n",
              "    }\n",
              "\n",
              "    .dataframe thead th {\n",
              "        text-align: right;\n",
              "    }\n",
              "</style>\n",
              "<table border=\"1\" class=\"dataframe\">\n",
              "  <thead>\n",
              "    <tr style=\"text-align: right;\">\n",
              "      <th></th>\n",
              "      <th>diagnosis</th>\n",
              "      <th>radius_mean</th>\n",
              "      <th>texture_mean</th>\n",
              "      <th>perimeter_mean</th>\n",
              "      <th>area_mean</th>\n",
              "      <th>smoothness_mean</th>\n",
              "      <th>compactness_mean</th>\n",
              "      <th>concavity_mean</th>\n",
              "      <th>concave points_mean</th>\n",
              "      <th>symmetry_mean</th>\n",
              "      <th>...</th>\n",
              "      <th>radius_worst</th>\n",
              "      <th>texture_worst</th>\n",
              "      <th>perimeter_worst</th>\n",
              "      <th>area_worst</th>\n",
              "      <th>smoothness_worst</th>\n",
              "      <th>compactness_worst</th>\n",
              "      <th>concavity_worst</th>\n",
              "      <th>concave points_worst</th>\n",
              "      <th>symmetry_worst</th>\n",
              "      <th>fractal_dimension_worst</th>\n",
              "    </tr>\n",
              "  </thead>\n",
              "  <tbody>\n",
              "    <tr>\n",
              "      <th>0</th>\n",
              "      <td>M</td>\n",
              "      <td>17.99</td>\n",
              "      <td>10.38</td>\n",
              "      <td>122.80</td>\n",
              "      <td>1001.0</td>\n",
              "      <td>0.11840</td>\n",
              "      <td>0.27760</td>\n",
              "      <td>0.3001</td>\n",
              "      <td>0.14710</td>\n",
              "      <td>0.2419</td>\n",
              "      <td>...</td>\n",
              "      <td>25.38</td>\n",
              "      <td>17.33</td>\n",
              "      <td>184.60</td>\n",
              "      <td>2019.0</td>\n",
              "      <td>0.1622</td>\n",
              "      <td>0.6656</td>\n",
              "      <td>0.7119</td>\n",
              "      <td>0.2654</td>\n",
              "      <td>0.4601</td>\n",
              "      <td>0.11890</td>\n",
              "    </tr>\n",
              "    <tr>\n",
              "      <th>1</th>\n",
              "      <td>M</td>\n",
              "      <td>20.57</td>\n",
              "      <td>17.77</td>\n",
              "      <td>132.90</td>\n",
              "      <td>1326.0</td>\n",
              "      <td>0.08474</td>\n",
              "      <td>0.07864</td>\n",
              "      <td>0.0869</td>\n",
              "      <td>0.07017</td>\n",
              "      <td>0.1812</td>\n",
              "      <td>...</td>\n",
              "      <td>24.99</td>\n",
              "      <td>23.41</td>\n",
              "      <td>158.80</td>\n",
              "      <td>1956.0</td>\n",
              "      <td>0.1238</td>\n",
              "      <td>0.1866</td>\n",
              "      <td>0.2416</td>\n",
              "      <td>0.1860</td>\n",
              "      <td>0.2750</td>\n",
              "      <td>0.08902</td>\n",
              "    </tr>\n",
              "    <tr>\n",
              "      <th>2</th>\n",
              "      <td>M</td>\n",
              "      <td>19.69</td>\n",
              "      <td>21.25</td>\n",
              "      <td>130.00</td>\n",
              "      <td>1203.0</td>\n",
              "      <td>0.10960</td>\n",
              "      <td>0.15990</td>\n",
              "      <td>0.1974</td>\n",
              "      <td>0.12790</td>\n",
              "      <td>0.2069</td>\n",
              "      <td>...</td>\n",
              "      <td>23.57</td>\n",
              "      <td>25.53</td>\n",
              "      <td>152.50</td>\n",
              "      <td>1709.0</td>\n",
              "      <td>0.1444</td>\n",
              "      <td>0.4245</td>\n",
              "      <td>0.4504</td>\n",
              "      <td>0.2430</td>\n",
              "      <td>0.3613</td>\n",
              "      <td>0.08758</td>\n",
              "    </tr>\n",
              "    <tr>\n",
              "      <th>3</th>\n",
              "      <td>M</td>\n",
              "      <td>11.42</td>\n",
              "      <td>20.38</td>\n",
              "      <td>77.58</td>\n",
              "      <td>386.1</td>\n",
              "      <td>0.14250</td>\n",
              "      <td>0.28390</td>\n",
              "      <td>0.2414</td>\n",
              "      <td>0.10520</td>\n",
              "      <td>0.2597</td>\n",
              "      <td>...</td>\n",
              "      <td>14.91</td>\n",
              "      <td>26.50</td>\n",
              "      <td>98.87</td>\n",
              "      <td>567.7</td>\n",
              "      <td>0.2098</td>\n",
              "      <td>0.8663</td>\n",
              "      <td>0.6869</td>\n",
              "      <td>0.2575</td>\n",
              "      <td>0.6638</td>\n",
              "      <td>0.17300</td>\n",
              "    </tr>\n",
              "    <tr>\n",
              "      <th>4</th>\n",
              "      <td>M</td>\n",
              "      <td>20.29</td>\n",
              "      <td>14.34</td>\n",
              "      <td>135.10</td>\n",
              "      <td>1297.0</td>\n",
              "      <td>0.10030</td>\n",
              "      <td>0.13280</td>\n",
              "      <td>0.1980</td>\n",
              "      <td>0.10430</td>\n",
              "      <td>0.1809</td>\n",
              "      <td>...</td>\n",
              "      <td>22.54</td>\n",
              "      <td>16.67</td>\n",
              "      <td>152.20</td>\n",
              "      <td>1575.0</td>\n",
              "      <td>0.1374</td>\n",
              "      <td>0.2050</td>\n",
              "      <td>0.4000</td>\n",
              "      <td>0.1625</td>\n",
              "      <td>0.2364</td>\n",
              "      <td>0.07678</td>\n",
              "    </tr>\n",
              "  </tbody>\n",
              "</table>\n",
              "<p>5 rows × 31 columns</p>\n",
              "</div>\n",
              "    <div class=\"colab-df-buttons\">\n",
              "\n",
              "  <div class=\"colab-df-container\">\n",
              "    <button class=\"colab-df-convert\" onclick=\"convertToInteractive('df-ee98d37f-a90e-422c-b7e3-1a6a5b36ed23')\"\n",
              "            title=\"Convert this dataframe to an interactive table.\"\n",
              "            style=\"display:none;\">\n",
              "\n",
              "  <svg xmlns=\"http://www.w3.org/2000/svg\" height=\"24px\" viewBox=\"0 -960 960 960\">\n",
              "    <path d=\"M120-120v-720h720v720H120Zm60-500h600v-160H180v160Zm220 220h160v-160H400v160Zm0 220h160v-160H400v160ZM180-400h160v-160H180v160Zm440 0h160v-160H620v160ZM180-180h160v-160H180v160Zm440 0h160v-160H620v160Z\"/>\n",
              "  </svg>\n",
              "    </button>\n",
              "\n",
              "  <style>\n",
              "    .colab-df-container {\n",
              "      display:flex;\n",
              "      gap: 12px;\n",
              "    }\n",
              "\n",
              "    .colab-df-convert {\n",
              "      background-color: #E8F0FE;\n",
              "      border: none;\n",
              "      border-radius: 50%;\n",
              "      cursor: pointer;\n",
              "      display: none;\n",
              "      fill: #1967D2;\n",
              "      height: 32px;\n",
              "      padding: 0 0 0 0;\n",
              "      width: 32px;\n",
              "    }\n",
              "\n",
              "    .colab-df-convert:hover {\n",
              "      background-color: #E2EBFA;\n",
              "      box-shadow: 0px 1px 2px rgba(60, 64, 67, 0.3), 0px 1px 3px 1px rgba(60, 64, 67, 0.15);\n",
              "      fill: #174EA6;\n",
              "    }\n",
              "\n",
              "    .colab-df-buttons div {\n",
              "      margin-bottom: 4px;\n",
              "    }\n",
              "\n",
              "    [theme=dark] .colab-df-convert {\n",
              "      background-color: #3B4455;\n",
              "      fill: #D2E3FC;\n",
              "    }\n",
              "\n",
              "    [theme=dark] .colab-df-convert:hover {\n",
              "      background-color: #434B5C;\n",
              "      box-shadow: 0px 1px 3px 1px rgba(0, 0, 0, 0.15);\n",
              "      filter: drop-shadow(0px 1px 2px rgba(0, 0, 0, 0.3));\n",
              "      fill: #FFFFFF;\n",
              "    }\n",
              "  </style>\n",
              "\n",
              "    <script>\n",
              "      const buttonEl =\n",
              "        document.querySelector('#df-ee98d37f-a90e-422c-b7e3-1a6a5b36ed23 button.colab-df-convert');\n",
              "      buttonEl.style.display =\n",
              "        google.colab.kernel.accessAllowed ? 'block' : 'none';\n",
              "\n",
              "      async function convertToInteractive(key) {\n",
              "        const element = document.querySelector('#df-ee98d37f-a90e-422c-b7e3-1a6a5b36ed23');\n",
              "        const dataTable =\n",
              "          await google.colab.kernel.invokeFunction('convertToInteractive',\n",
              "                                                    [key], {});\n",
              "        if (!dataTable) return;\n",
              "\n",
              "        const docLinkHtml = 'Like what you see? Visit the ' +\n",
              "          '<a target=\"_blank\" href=https://colab.research.google.com/notebooks/data_table.ipynb>data table notebook</a>'\n",
              "          + ' to learn more about interactive tables.';\n",
              "        element.innerHTML = '';\n",
              "        dataTable['output_type'] = 'display_data';\n",
              "        await google.colab.output.renderOutput(dataTable, element);\n",
              "        const docLink = document.createElement('div');\n",
              "        docLink.innerHTML = docLinkHtml;\n",
              "        element.appendChild(docLink);\n",
              "      }\n",
              "    </script>\n",
              "  </div>\n",
              "\n",
              "\n",
              "    <div id=\"df-cdcc2e55-8641-4c38-9f53-416416d595fe\">\n",
              "      <button class=\"colab-df-quickchart\" onclick=\"quickchart('df-cdcc2e55-8641-4c38-9f53-416416d595fe')\"\n",
              "                title=\"Suggest charts\"\n",
              "                style=\"display:none;\">\n",
              "\n",
              "<svg xmlns=\"http://www.w3.org/2000/svg\" height=\"24px\"viewBox=\"0 0 24 24\"\n",
              "     width=\"24px\">\n",
              "    <g>\n",
              "        <path d=\"M19 3H5c-1.1 0-2 .9-2 2v14c0 1.1.9 2 2 2h14c1.1 0 2-.9 2-2V5c0-1.1-.9-2-2-2zM9 17H7v-7h2v7zm4 0h-2V7h2v10zm4 0h-2v-4h2v4z\"/>\n",
              "    </g>\n",
              "</svg>\n",
              "      </button>\n",
              "\n",
              "<style>\n",
              "  .colab-df-quickchart {\n",
              "      --bg-color: #E8F0FE;\n",
              "      --fill-color: #1967D2;\n",
              "      --hover-bg-color: #E2EBFA;\n",
              "      --hover-fill-color: #174EA6;\n",
              "      --disabled-fill-color: #AAA;\n",
              "      --disabled-bg-color: #DDD;\n",
              "  }\n",
              "\n",
              "  [theme=dark] .colab-df-quickchart {\n",
              "      --bg-color: #3B4455;\n",
              "      --fill-color: #D2E3FC;\n",
              "      --hover-bg-color: #434B5C;\n",
              "      --hover-fill-color: #FFFFFF;\n",
              "      --disabled-bg-color: #3B4455;\n",
              "      --disabled-fill-color: #666;\n",
              "  }\n",
              "\n",
              "  .colab-df-quickchart {\n",
              "    background-color: var(--bg-color);\n",
              "    border: none;\n",
              "    border-radius: 50%;\n",
              "    cursor: pointer;\n",
              "    display: none;\n",
              "    fill: var(--fill-color);\n",
              "    height: 32px;\n",
              "    padding: 0;\n",
              "    width: 32px;\n",
              "  }\n",
              "\n",
              "  .colab-df-quickchart:hover {\n",
              "    background-color: var(--hover-bg-color);\n",
              "    box-shadow: 0 1px 2px rgba(60, 64, 67, 0.3), 0 1px 3px 1px rgba(60, 64, 67, 0.15);\n",
              "    fill: var(--button-hover-fill-color);\n",
              "  }\n",
              "\n",
              "  .colab-df-quickchart-complete:disabled,\n",
              "  .colab-df-quickchart-complete:disabled:hover {\n",
              "    background-color: var(--disabled-bg-color);\n",
              "    fill: var(--disabled-fill-color);\n",
              "    box-shadow: none;\n",
              "  }\n",
              "\n",
              "  .colab-df-spinner {\n",
              "    border: 2px solid var(--fill-color);\n",
              "    border-color: transparent;\n",
              "    border-bottom-color: var(--fill-color);\n",
              "    animation:\n",
              "      spin 1s steps(1) infinite;\n",
              "  }\n",
              "\n",
              "  @keyframes spin {\n",
              "    0% {\n",
              "      border-color: transparent;\n",
              "      border-bottom-color: var(--fill-color);\n",
              "      border-left-color: var(--fill-color);\n",
              "    }\n",
              "    20% {\n",
              "      border-color: transparent;\n",
              "      border-left-color: var(--fill-color);\n",
              "      border-top-color: var(--fill-color);\n",
              "    }\n",
              "    30% {\n",
              "      border-color: transparent;\n",
              "      border-left-color: var(--fill-color);\n",
              "      border-top-color: var(--fill-color);\n",
              "      border-right-color: var(--fill-color);\n",
              "    }\n",
              "    40% {\n",
              "      border-color: transparent;\n",
              "      border-right-color: var(--fill-color);\n",
              "      border-top-color: var(--fill-color);\n",
              "    }\n",
              "    60% {\n",
              "      border-color: transparent;\n",
              "      border-right-color: var(--fill-color);\n",
              "    }\n",
              "    80% {\n",
              "      border-color: transparent;\n",
              "      border-right-color: var(--fill-color);\n",
              "      border-bottom-color: var(--fill-color);\n",
              "    }\n",
              "    90% {\n",
              "      border-color: transparent;\n",
              "      border-bottom-color: var(--fill-color);\n",
              "    }\n",
              "  }\n",
              "</style>\n",
              "\n",
              "      <script>\n",
              "        async function quickchart(key) {\n",
              "          const quickchartButtonEl =\n",
              "            document.querySelector('#' + key + ' button');\n",
              "          quickchartButtonEl.disabled = true;  // To prevent multiple clicks.\n",
              "          quickchartButtonEl.classList.add('colab-df-spinner');\n",
              "          try {\n",
              "            const charts = await google.colab.kernel.invokeFunction(\n",
              "                'suggestCharts', [key], {});\n",
              "          } catch (error) {\n",
              "            console.error('Error during call to suggestCharts:', error);\n",
              "          }\n",
              "          quickchartButtonEl.classList.remove('colab-df-spinner');\n",
              "          quickchartButtonEl.classList.add('colab-df-quickchart-complete');\n",
              "        }\n",
              "        (() => {\n",
              "          let quickchartButtonEl =\n",
              "            document.querySelector('#df-cdcc2e55-8641-4c38-9f53-416416d595fe button');\n",
              "          quickchartButtonEl.style.display =\n",
              "            google.colab.kernel.accessAllowed ? 'block' : 'none';\n",
              "        })();\n",
              "      </script>\n",
              "    </div>\n",
              "\n",
              "    </div>\n",
              "  </div>\n"
            ],
            "application/vnd.google.colaboratory.intrinsic+json": {
              "type": "dataframe",
              "variable_name": "dataset"
            }
          },
          "metadata": {},
          "execution_count": 9
        }
      ]
    },
    {
      "cell_type": "markdown",
      "source": [
        "##Simple Exploratory Data Analysis"
      ],
      "metadata": {
        "id": "HTAcwZLKdhSC"
      }
    },
    {
      "cell_type": "code",
      "source": [
        "from matplotlib import pyplot as plt\n",
        "import seaborn as sns\n",
        "dataset.groupby('diagnosis').size().plot(kind='barh', color=sns.palettes.mpl_palette('Dark2'))\n",
        "plt.gca().spines[['top', 'right',]].set_visible(False)\n"
      ],
      "metadata": {
        "colab": {
          "base_uri": "https://localhost:8080/",
          "height": 430
        },
        "id": "wrmQszxzUYwx",
        "outputId": "40d58882-0e56-4ef4-d000-dc4a147775e3"
      },
      "execution_count": null,
      "outputs": [
        {
          "output_type": "display_data",
          "data": {
            "text/plain": [
              "<Figure size 640x480 with 1 Axes>"
            ],
            "image/png": "[encoded data removed]"
          },
          "metadata": {}
        }
      ]
    },
    {
      "cell_type": "markdown",
      "source": [
        "Gambar ini menampilkan hasil analisis data eksploratif sederhana terhadap dataset breast cancer. Tujuannya adalah untuk mengetahui sebaran jumlah antara dua kategori diagnosis: Benign (B) dan Malignat (M). Dilihat dari persebarannya, dataset breast cancer ini imbalanced, karena lebih banyak Benign daripada Malignant"
      ],
      "metadata": {
        "id": "GNzS_rnZXlW3"
      }
    },
    {
      "cell_type": "markdown",
      "source": [
        "##Split Data Train dan Data Test"
      ],
      "metadata": {
        "id": "daIPT3o7eCU8"
      }
    },
    {
      "cell_type": "code",
      "source": [
        "from sklearn.model_selection import train_test_split\n",
        "train_data, test_data = train_test_split(dataset, test_size = 0.2, random_state=42, stratify = dataset['diagnosis'])\n",
        "print(train_data.shape)\n",
        "print(test_data.shape)\n",
        "dataset_capped = dataset.copy()\n",
        "#simpan data yang di capped di variabel yang berbeda"
      ],
      "metadata": {
        "colab": {
          "base_uri": "https://localhost:8080/"
        },
        "id": "2wOcAeireFtF",
        "outputId": "7caeefd5-f505-4ad0-e310-43823fbf4e2c"
      },
      "execution_count": null,
      "outputs": [
        {
          "output_type": "stream",
          "name": "stdout",
          "text": [
            "(455, 31)\n",
            "(114, 31)\n"
          ]
        }
      ]
    },
    {
      "cell_type": "markdown",
      "source": [
        "Split data 80:10 secara random untuk data train dan data test nantinya. Digunakan juga stratify agar data di split sesuai dengan jumlah masing masing diagnosis, bukan condong ke mayoritas."
      ],
      "metadata": {
        "id": "abpg9sQ2fOYv"
      }
    },
    {
      "cell_type": "markdown",
      "source": [
        "##Outlier Handling : InterQuartile Handling"
      ],
      "metadata": {
        "id": "4EJHdxA5dtt3"
      }
    },
    {
      "cell_type": "code",
      "source": [
        "import scipy.stats as stats"
      ],
      "metadata": {
        "id": "UQPEHbAkZdxE"
      },
      "execution_count": null,
      "outputs": []
    },
    {
      "cell_type": "code",
      "source": [
        "dataset.columns"
      ],
      "metadata": {
        "colab": {
          "base_uri": "https://localhost:8080/"
        },
        "id": "O-rXCUFSdABQ",
        "outputId": "57ab3914-f8b6-457c-9f14-fa905d166c79"
      },
      "execution_count": null,
      "outputs": [
        {
          "output_type": "execute_result",
          "data": {
            "text/plain": [
              "Index(['diagnosis', 'radius_mean', 'texture_mean', 'perimeter_mean',\n",
              "       'area_mean', 'smoothness_mean', 'compactness_mean', 'concavity_mean',\n",
              "       'concave points_mean', 'symmetry_mean', 'fractal_dimension_mean',\n",
              "       'radius_se', 'texture_se', 'perimeter_se', 'area_se', 'smoothness_se',\n",
              "       'compactness_se', 'concavity_se', 'concave points_se', 'symmetry_se',\n",
              "       'fractal_dimension_se', 'radius_worst', 'texture_worst',\n",
              "       'perimeter_worst', 'area_worst', 'smoothness_worst',\n",
              "       'compactness_worst', 'concavity_worst', 'concave points_worst',\n",
              "       'symmetry_worst', 'fractal_dimension_worst'],\n",
              "      dtype='object')"
            ]
          },
          "metadata": {},
          "execution_count": 16
        }
      ]
    },
    {
      "cell_type": "code",
      "source": [
        "def check_plot(df, variable):\n",
        "    # fungsi mengambil kerangka data (df) dan\n",
        "    # variabel yang diminati sebagai argumen\n",
        "\n",
        "    # tentukan ukuran gambar\n",
        "    plt.figure(figsize=(16, 4))\n",
        "\n",
        "    # histogram\n",
        "    plt.subplot(1, 3, 1)\n",
        "    sns.histplot(df[variable], bins=30)\n",
        "    plt.title('Histogram')\n",
        "\n",
        "    # plot Q-Q\n",
        "    plt.subplot(1, 3, 2)\n",
        "    stats.probplot(df[variable], dist=\"norm\", plot=plt)\n",
        "    plt.ylabel('Variable quantiles')\n",
        "\n",
        "    # box plot\n",
        "    plt.subplot(1, 3, 3)\n",
        "    sns.boxplot(y=df[variable])\n",
        "    plt.title('Boxplot')\n",
        "\n",
        "    plt.show()"
      ],
      "metadata": {
        "id": "FSuK21Imggg6"
      },
      "execution_count": null,
      "outputs": []
    },
    {
      "cell_type": "code",
      "source": [
        "# memvisualisasikan outlier di LSTAT\n",
        "check_plot(dataset, 'area_se')"
      ],
      "metadata": {
        "colab": {
          "base_uri": "https://localhost:8080/",
          "height": 307
        },
        "id": "64co1f1bgxRK",
        "outputId": "8c8850af-817c-4567-97a2-8d6640f07186"
      },
      "execution_count": null,
      "outputs": [
        {
          "output_type": "display_data",
          "data": {
            "text/plain": [
              "<Figure size 1600x400 with 3 Axes>"
            ],
            "image/png": "[encoded data removed]"
          },
          "metadata": {}
        }
      ]
    },
    {
      "cell_type": "code",
      "source": [
        "# Ambil semua kolom numerik kecuali kolom diagnosis karena dia label\n",
        "num_cols = dataset.select_dtypes(include=['float64', 'int64']).columns.tolist()\n",
        "\n",
        "# Kalau kolom diagnosis masih ikut remove secara manual\n",
        "if 'diagnosis' in num_cols:\n",
        "    num_cols.remove('diagnosis')\n",
        "\n",
        "# Hitung jumlah outlier per kolom atau fitur numerik\n",
        "for col in num_cols:\n",
        "    Q1 = dataset[col].quantile(0.25)\n",
        "    Q3 = dataset[col].quantile(0.75)\n",
        "    IQR = Q3 - Q1\n",
        "    lower_limit = Q1 - 1.5 * IQR\n",
        "    upper_limit = Q3 + 1.5 * IQR\n",
        "    outliers = dataset[(dataset[col] < lower_limit) | (dataset[col] > upper_limit)]\n",
        "    outlier_count = outliers.shape[0]\n",
        "    percentage = (outlier_count / dataset.shape[0]) * 100\n",
        "\n",
        "    if outlier_count > 0:\n",
        "        print(f\"{col}: {outlier_count} outliers dari {dataset.shape[0]} data ({percentage:.2f}%)\")\n",
        "\n",
        "        # Cek distribusi diagnosis dari data yang outlier di kolom ini\n",
        "        diagnosis_out = outliers.groupby('diagnosis').size()\n",
        "        print(f\"Diagnosis outliers pada '{col}':\\n{diagnosis_out}\\n\")\n",
        "\n",
        "        # Penilaian singkat\n",
        "        if percentage < 5:\n",
        "            print(f\"→ Outlier pada '{col}' <5%, kemungkinan valid (rare case). Disarankan untuk dipertahankan.\\n\")\n",
        "            # Outlier <5% dipertahankan karena bisa jadi kasus langka yang valid dalam data medis.\n",
        "        else:\n",
        "            print(f\"→ Outlier pada '{col}' >5%, bisa dipertimbangkan untuk capping atau analisis lebih lanjut.\\n\")\n"
      ],
      "metadata": {
        "colab": {
          "base_uri": "https://localhost:8080/"
        },
        "id": "dbVjP7ronPIy",
        "outputId": "ff58c351-bfa1-474e-d8da-6badf104b302"
      },
      "execution_count": null,
      "outputs": [
        {
          "output_type": "stream",
          "name": "stdout",
          "text": [
            "radius_mean: 14 outliers dari 569 data (2.46%)\n",
            "Diagnosis outliers pada 'radius_mean':\n",
            "diagnosis\n",
            "M    14\n",
            "dtype: int64\n",
            "\n",
            "→ Outlier pada 'radius_mean' <5%, kemungkinan valid (rare case). Disarankan untuk dipertahankan.\n",
            "\n",
            "texture_mean: 7 outliers dari 569 data (1.23%)\n",
            "Diagnosis outliers pada 'texture_mean':\n",
            "diagnosis\n",
            "B    2\n",
            "M    5\n",
            "dtype: int64\n",
            "\n",
            "→ Outlier pada 'texture_mean' <5%, kemungkinan valid (rare case). Disarankan untuk dipertahankan.\n",
            "\n",
            "perimeter_mean: 13 outliers dari 569 data (2.28%)\n",
            "Diagnosis outliers pada 'perimeter_mean':\n",
            "diagnosis\n",
            "M    13\n",
            "dtype: int64\n",
            "\n",
            "→ Outlier pada 'perimeter_mean' <5%, kemungkinan valid (rare case). Disarankan untuk dipertahankan.\n",
            "\n",
            "area_mean: 25 outliers dari 569 data (4.39%)\n",
            "Diagnosis outliers pada 'area_mean':\n",
            "diagnosis\n",
            "M    25\n",
            "dtype: int64\n",
            "\n",
            "→ Outlier pada 'area_mean' <5%, kemungkinan valid (rare case). Disarankan untuk dipertahankan.\n",
            "\n",
            "smoothness_mean: 6 outliers dari 569 data (1.05%)\n",
            "Diagnosis outliers pada 'smoothness_mean':\n",
            "diagnosis\n",
            "B    3\n",
            "M    3\n",
            "dtype: int64\n",
            "\n",
            "→ Outlier pada 'smoothness_mean' <5%, kemungkinan valid (rare case). Disarankan untuk dipertahankan.\n",
            "\n",
            "compactness_mean: 16 outliers dari 569 data (2.81%)\n",
            "Diagnosis outliers pada 'compactness_mean':\n",
            "diagnosis\n",
            "M    16\n",
            "dtype: int64\n",
            "\n",
            "→ Outlier pada 'compactness_mean' <5%, kemungkinan valid (rare case). Disarankan untuk dipertahankan.\n",
            "\n",
            "concavity_mean: 18 outliers dari 569 data (3.16%)\n",
            "Diagnosis outliers pada 'concavity_mean':\n",
            "diagnosis\n",
            "B     3\n",
            "M    15\n",
            "dtype: int64\n",
            "\n",
            "→ Outlier pada 'concavity_mean' <5%, kemungkinan valid (rare case). Disarankan untuk dipertahankan.\n",
            "\n",
            "concave points_mean: 10 outliers dari 569 data (1.76%)\n",
            "Diagnosis outliers pada 'concave points_mean':\n",
            "diagnosis\n",
            "M    10\n",
            "dtype: int64\n",
            "\n",
            "→ Outlier pada 'concave points_mean' <5%, kemungkinan valid (rare case). Disarankan untuk dipertahankan.\n",
            "\n",
            "symmetry_mean: 15 outliers dari 569 data (2.64%)\n",
            "Diagnosis outliers pada 'symmetry_mean':\n",
            "diagnosis\n",
            "B    6\n",
            "M    9\n",
            "dtype: int64\n",
            "\n",
            "→ Outlier pada 'symmetry_mean' <5%, kemungkinan valid (rare case). Disarankan untuk dipertahankan.\n",
            "\n",
            "fractal_dimension_mean: 15 outliers dari 569 data (2.64%)\n",
            "Diagnosis outliers pada 'fractal_dimension_mean':\n",
            "diagnosis\n",
            "B    10\n",
            "M     5\n",
            "dtype: int64\n",
            "\n",
            "→ Outlier pada 'fractal_dimension_mean' <5%, kemungkinan valid (rare case). Disarankan untuk dipertahankan.\n",
            "\n",
            "radius_se: 38 outliers dari 569 data (6.68%)\n",
            "Diagnosis outliers pada 'radius_se':\n",
            "diagnosis\n",
            "B     1\n",
            "M    37\n",
            "dtype: int64\n",
            "\n",
            "→ Outlier pada 'radius_se' >5%, bisa dipertimbangkan untuk capping atau analisis lebih lanjut.\n",
            "\n",
            "texture_se: 20 outliers dari 569 data (3.51%)\n",
            "Diagnosis outliers pada 'texture_se':\n",
            "diagnosis\n",
            "B    14\n",
            "M     6\n",
            "dtype: int64\n",
            "\n",
            "→ Outlier pada 'texture_se' <5%, kemungkinan valid (rare case). Disarankan untuk dipertahankan.\n",
            "\n",
            "perimeter_se: 38 outliers dari 569 data (6.68%)\n",
            "Diagnosis outliers pada 'perimeter_se':\n",
            "diagnosis\n",
            "M    38\n",
            "dtype: int64\n",
            "\n",
            "→ Outlier pada 'perimeter_se' >5%, bisa dipertimbangkan untuk capping atau analisis lebih lanjut.\n",
            "\n",
            "area_se: 65 outliers dari 569 data (11.42%)\n",
            "Diagnosis outliers pada 'area_se':\n",
            "diagnosis\n",
            "M    65\n",
            "dtype: int64\n",
            "\n",
            "→ Outlier pada 'area_se' >5%, bisa dipertimbangkan untuk capping atau analisis lebih lanjut.\n",
            "\n",
            "smoothness_se: 30 outliers dari 569 data (5.27%)\n",
            "Diagnosis outliers pada 'smoothness_se':\n",
            "diagnosis\n",
            "B    26\n",
            "M     4\n",
            "dtype: int64\n",
            "\n",
            "→ Outlier pada 'smoothness_se' >5%, bisa dipertimbangkan untuk capping atau analisis lebih lanjut.\n",
            "\n",
            "compactness_se: 28 outliers dari 569 data (4.92%)\n",
            "Diagnosis outliers pada 'compactness_se':\n",
            "diagnosis\n",
            "B    14\n",
            "M    14\n",
            "dtype: int64\n",
            "\n",
            "→ Outlier pada 'compactness_se' <5%, kemungkinan valid (rare case). Disarankan untuk dipertahankan.\n",
            "\n",
            "concavity_se: 22 outliers dari 569 data (3.87%)\n",
            "Diagnosis outliers pada 'concavity_se':\n",
            "diagnosis\n",
            "B    12\n",
            "M    10\n",
            "dtype: int64\n",
            "\n",
            "→ Outlier pada 'concavity_se' <5%, kemungkinan valid (rare case). Disarankan untuk dipertahankan.\n",
            "\n",
            "concave points_se: 19 outliers dari 569 data (3.34%)\n",
            "Diagnosis outliers pada 'concave points_se':\n",
            "diagnosis\n",
            "B     7\n",
            "M    12\n",
            "dtype: int64\n",
            "\n",
            "→ Outlier pada 'concave points_se' <5%, kemungkinan valid (rare case). Disarankan untuk dipertahankan.\n",
            "\n",
            "symmetry_se: 27 outliers dari 569 data (4.75%)\n",
            "Diagnosis outliers pada 'symmetry_se':\n",
            "diagnosis\n",
            "B    11\n",
            "M    16\n",
            "dtype: int64\n",
            "\n",
            "→ Outlier pada 'symmetry_se' <5%, kemungkinan valid (rare case). Disarankan untuk dipertahankan.\n",
            "\n",
            "fractal_dimension_se: 28 outliers dari 569 data (4.92%)\n",
            "Diagnosis outliers pada 'fractal_dimension_se':\n",
            "diagnosis\n",
            "B    18\n",
            "M    10\n",
            "dtype: int64\n",
            "\n",
            "→ Outlier pada 'fractal_dimension_se' <5%, kemungkinan valid (rare case). Disarankan untuk dipertahankan.\n",
            "\n",
            "radius_worst: 17 outliers dari 569 data (2.99%)\n",
            "Diagnosis outliers pada 'radius_worst':\n",
            "diagnosis\n",
            "M    17\n",
            "dtype: int64\n",
            "\n",
            "→ Outlier pada 'radius_worst' <5%, kemungkinan valid (rare case). Disarankan untuk dipertahankan.\n",
            "\n",
            "texture_worst: 5 outliers dari 569 data (0.88%)\n",
            "Diagnosis outliers pada 'texture_worst':\n",
            "diagnosis\n",
            "M    5\n",
            "dtype: int64\n",
            "\n",
            "→ Outlier pada 'texture_worst' <5%, kemungkinan valid (rare case). Disarankan untuk dipertahankan.\n",
            "\n",
            "perimeter_worst: 15 outliers dari 569 data (2.64%)\n",
            "Diagnosis outliers pada 'perimeter_worst':\n",
            "diagnosis\n",
            "M    15\n",
            "dtype: int64\n",
            "\n",
            "→ Outlier pada 'perimeter_worst' <5%, kemungkinan valid (rare case). Disarankan untuk dipertahankan.\n",
            "\n",
            "area_worst: 35 outliers dari 569 data (6.15%)\n",
            "Diagnosis outliers pada 'area_worst':\n",
            "diagnosis\n",
            "M    35\n",
            "dtype: int64\n",
            "\n",
            "→ Outlier pada 'area_worst' >5%, bisa dipertimbangkan untuk capping atau analisis lebih lanjut.\n",
            "\n",
            "smoothness_worst: 7 outliers dari 569 data (1.23%)\n",
            "Diagnosis outliers pada 'smoothness_worst':\n",
            "diagnosis\n",
            "B    3\n",
            "M    4\n",
            "dtype: int64\n",
            "\n",
            "→ Outlier pada 'smoothness_worst' <5%, kemungkinan valid (rare case). Disarankan untuk dipertahankan.\n",
            "\n",
            "compactness_worst: 16 outliers dari 569 data (2.81%)\n",
            "Diagnosis outliers pada 'compactness_worst':\n",
            "diagnosis\n",
            "M    16\n",
            "dtype: int64\n",
            "\n",
            "→ Outlier pada 'compactness_worst' <5%, kemungkinan valid (rare case). Disarankan untuk dipertahankan.\n",
            "\n",
            "concavity_worst: 12 outliers dari 569 data (2.11%)\n",
            "Diagnosis outliers pada 'concavity_worst':\n",
            "diagnosis\n",
            "B     2\n",
            "M    10\n",
            "dtype: int64\n",
            "\n",
            "→ Outlier pada 'concavity_worst' <5%, kemungkinan valid (rare case). Disarankan untuk dipertahankan.\n",
            "\n",
            "symmetry_worst: 23 outliers dari 569 data (4.04%)\n",
            "Diagnosis outliers pada 'symmetry_worst':\n",
            "diagnosis\n",
            "B     1\n",
            "M    22\n",
            "dtype: int64\n",
            "\n",
            "→ Outlier pada 'symmetry_worst' <5%, kemungkinan valid (rare case). Disarankan untuk dipertahankan.\n",
            "\n",
            "fractal_dimension_worst: 24 outliers dari 569 data (4.22%)\n",
            "Diagnosis outliers pada 'fractal_dimension_worst':\n",
            "diagnosis\n",
            "B     6\n",
            "M    18\n",
            "dtype: int64\n",
            "\n",
            "→ Outlier pada 'fractal_dimension_worst' <5%, kemungkinan valid (rare case). Disarankan untuk dipertahankan.\n",
            "\n"
          ]
        }
      ]
    },
    {
      "cell_type": "markdown",
      "source": [
        "Karena ini data medis, outlier yang ada kemungkinan mewakili kasus nyata, walaupun proporsinya kecil, jadi saya memiilih untuk mempertahankannya. Pendekatan ini menjaga integritas data sekaligus memberikan model kesempatan belajar pola dari kasus langka(rare case).\n"
      ],
      "metadata": {
        "id": "en0J0jvGrc9T"
      }
    },
    {
      "cell_type": "code",
      "source": [
        "def find_outlier_boundary(df, variable):\n",
        "\n",
        "    # Hitung batas luar yang merupakan outlier\n",
        "\n",
        "    IQR = df[variable].quantile(0.75) - df[variable].quantile(0.25)\n",
        "\n",
        "    lower_boundary = df[variable].quantile(0.25) - (IQR * 1.5)\n",
        "    upper_boundary = df[variable].quantile(0.75) + (IQR * 1.5)\n",
        "\n",
        "    return upper_boundary, lower_boundary"
      ],
      "metadata": {
        "id": "yGS0u8YYhO0k"
      },
      "execution_count": null,
      "outputs": []
    },
    {
      "cell_type": "code",
      "source": [
        "# batas untuk semua outlier\n",
        "upper_limit, lower_limit = find_outlier_boundary(dataset, 'smoothness_se')\n",
        "upper_limit, lower_limit"
      ],
      "metadata": {
        "colab": {
          "base_uri": "https://localhost:8080/"
        },
        "id": "soqZA8A5i0Tj",
        "outputId": "fa0a3f41-548c-4c5b-d9ea-1768da6091da"
      },
      "execution_count": null,
      "outputs": [
        {
          "output_type": "execute_result",
          "data": {
            "text/plain": [
              "(np.float64(0.012611500000000001), np.float64(0.0007034999999999993))"
            ]
          },
          "metadata": {},
          "execution_count": 34
        }
      ]
    },
    {
      "cell_type": "code",
      "source": [
        "# Sekarang mari kita ganti outlier dengan batas maksimum dan minimum\n",
        "# Replace atau Capping -> tidak ada pengurangan baris (Nantinya akan dibandingkan, dari data yang dicapped sama yang tidak)\n",
        "dataset_capped['smoothness_se']= np.where(dataset['smoothness_se'] > upper_limit, upper_limit,\n",
        "                       np.where(dataset['smoothness_se'] < lower_limit, lower_limit, dataset['smoothness_se']))\n",
        "print(f\"Upper limit: {upper_limit}, Lower limit: {lower_limit}\")\n",
        "print(dataset_capped['smoothness_se'].describe())"
      ],
      "metadata": {
        "id": "VPq4EceGjPkK",
        "colab": {
          "base_uri": "https://localhost:8080/"
        },
        "outputId": "8d0509bc-1808-4ef8-810d-c7d98df84e9a"
      },
      "execution_count": null,
      "outputs": [
        {
          "output_type": "stream",
          "name": "stdout",
          "text": [
            "Upper limit: 0.012611500000000001, Lower limit: 0.0007034999999999993\n",
            "count    569.000000\n",
            "mean       0.006876\n",
            "std        0.002410\n",
            "min        0.001713\n",
            "25%        0.005169\n",
            "50%        0.006380\n",
            "75%        0.008146\n",
            "max        0.012612\n",
            "Name: smoothness_se, dtype: float64\n"
          ]
        }
      ]
    },
    {
      "cell_type": "markdown",
      "source": [
        "Data yang sudah dioutlier handling akan disimpan di copy dataframe dengan nama dataset_capped, yang nantinya akan digunakan sebagai perbandingan manakah dataset train yang menghasilkan score terbaik."
      ],
      "metadata": {
        "id": "BsQNiBKR_9a8"
      }
    },
    {
      "cell_type": "code",
      "source": [
        "# memvisualisasikan outlier di Population\n",
        "check_plot(dataset_capped, 'smoothness_se')"
      ],
      "metadata": {
        "colab": {
          "base_uri": "https://localhost:8080/",
          "height": 309
        },
        "id": "znFQajiGk1lV",
        "outputId": "70705949-fd19-43e8-ecb3-dff8cfbe9cb5"
      },
      "execution_count": null,
      "outputs": [
        {
          "output_type": "display_data",
          "data": {
            "text/plain": [
              "<Figure size 1600x400 with 3 Axes>"
            ],
            "image/png": "[encoded data removed]"
          },
          "metadata": {}
        }
      ]
    },
    {
      "cell_type": "markdown",
      "source": [
        "# Naive Bayes - Gaussian"
      ],
      "metadata": {
        "id": "sURO9J28TVnZ"
      }
    },
    {
      "cell_type": "code",
      "source": [
        "#@title Normalisasi dan Split Label dan Data\n",
        "#train_data\n",
        "train_data_gaussian = np.array(train_data)[:, 1:]\n",
        "train_label_gaussian = np.array(train_data)[:, 0]\n",
        "#test-data\n",
        "test_data_gaussian = np.array(test_data)[:, 1:]\n",
        "test_label_gaussian = np.array(test_data)[:, 0]\n",
        "\n",
        "#normalisasi min-max scaller untuk train data dan test data\n",
        "max_element_column = np.max(train_data_gaussian, axis=0)\n",
        "min_element_column = np.amin(train_data_gaussian, axis=0)\n",
        "new_min = 0\n",
        "new_max = 1\n",
        "\n",
        "train_data_scaled = ((train_data_gaussian - min_element_column) * (new_max-new_min) / (max_element_column - min_element_column)) + new_min\n",
        "\n",
        "test_data_scaled = ((test_data_gaussian - min_element_column) * (new_max-new_min) / (max_element_column - min_element_column)) + new_min"
      ],
      "metadata": {
        "id": "wj3P6AzjR-Di"
      },
      "execution_count": null,
      "outputs": []
    },
    {
      "cell_type": "markdown",
      "source": [
        "Menggunakan min max scaller secara manual"
      ],
      "metadata": {
        "id": "Vy3QbYoQ0qDH"
      }
    },
    {
      "cell_type": "code",
      "source": [
        "#@title Modelling Process\n",
        "from sklearn.naive_bayes import GaussianNB\n",
        "\n",
        "classifier = GaussianNB()\n",
        "\n",
        "classifier.fit(train_data_scaled, train_label_gaussian)\n",
        "\n",
        "hasil = classifier.predict(test_data_scaled)\n",
        "print(hasil)"
      ],
      "metadata": {
        "id": "K_MXlsNdZOsk",
        "colab": {
          "base_uri": "https://localhost:8080/"
        },
        "outputId": "d42e8615-e620-44ac-d5da-05b95ea27fdb"
      },
      "execution_count": null,
      "outputs": [
        {
          "output_type": "stream",
          "name": "stdout",
          "text": [
            "['B' 'M' 'B' 'B' 'B' 'M' 'M' 'B' 'B' 'B' 'M' 'B' 'M' 'B' 'B' 'B' 'B' 'B'\n",
            " 'B' 'B' 'B' 'B' 'M' 'M' 'B' 'B' 'B' 'B' 'M' 'M' 'M' 'B' 'M' 'M' 'B' 'B'\n",
            " 'B' 'B' 'M' 'B' 'M' 'B' 'B' 'B' 'B' 'M' 'B' 'M' 'B' 'B' 'M' 'M' 'B' 'B'\n",
            " 'B' 'M' 'B' 'B' 'B' 'M' 'B' 'B' 'M' 'B' 'B' 'B' 'M' 'M' 'B' 'M' 'B' 'M'\n",
            " 'M' 'B' 'B' 'B' 'B' 'M' 'B' 'M' 'M' 'M' 'B' 'B' 'B' 'B' 'M' 'M' 'M' 'B'\n",
            " 'M' 'B' 'M' 'B' 'B' 'B' 'B' 'M' 'B' 'B' 'B' 'B' 'B' 'B' 'B' 'B' 'M' 'B'\n",
            " 'M' 'B' 'B' 'B' 'B' 'M']\n"
          ]
        }
      ]
    },
    {
      "cell_type": "code",
      "source": [
        "#@title Model Evaluation using Sklearn\n",
        "from sklearn.metrics import accuracy_score, precision_score, recall_score, f1_score\n",
        "\n",
        "# Menghitung metrik\n",
        "accuracy = accuracy_score(test_label_gaussian, hasil)\n",
        "precision = precision_score(test_label_gaussian, hasil, average='macro')\n",
        "recall = recall_score(test_label_gaussian, hasil, average='macro')\n",
        "f1 = f1_score(test_label_gaussian, hasil, average='macro')\n",
        "\n",
        "# Menampilkan hasil\n",
        "print(\"Accuracy:\", accuracy)\n",
        "print(\"Precision:\", precision)\n",
        "print(\"Recall:\", recall)\n",
        "print(\"F1-Score:\", f1)"
      ],
      "metadata": {
        "colab": {
          "base_uri": "https://localhost:8080/"
        },
        "id": "88mVfDdebjt2",
        "outputId": "04f8a825-ed10-4653-bd99-d23c17a631f3"
      },
      "execution_count": null,
      "outputs": [
        {
          "output_type": "stream",
          "name": "stdout",
          "text": [
            "Accuracy: 0.9210526315789473\n",
            "Precision: 0.9215384615384616\n",
            "Recall: 0.9077380952380952\n",
            "F1-Score: 0.9138321995464853\n"
          ]
        }
      ]
    },
    {
      "cell_type": "markdown",
      "source": [
        "Karena data yang digunakan cenderung tidak seimbang (skewed) antara M (Malignant) dan B (Benign), maka metrik seperti F1-Score, Precision, dan Recall lebih tepat digunakan untuk menilai performa. Secara keseluruhan, hasil ini menunjukkan performa model yang cukup bagus."
      ],
      "metadata": {
        "id": "8i_fkmUrdhx_"
      }
    },
    {
      "cell_type": "code",
      "source": [
        "from sklearn.metrics import confusion_matrix, ConfusionMatrixDisplay, classification_report\n",
        "\n",
        "# Get unique class labels from both y_test and y_pred\n",
        "class_names = sorted(list(set(test_label_gaussian) | set(hasil)))\n",
        "\n",
        "# Menghitung confusion matrix dari class data testing dengan class hasil prediksi\n",
        "cm = confusion_matrix(test_label_gaussian, hasil)\n",
        "\n",
        "# Menampilkan confusion matrix\n",
        "disp = ConfusionMatrixDisplay(confusion_matrix=cm, display_labels=class_names)\n",
        "disp.plot(cmap=plt.cm.Blues)\n",
        "plt.title(\"Confusion Matrix\")\n",
        "plt.show()\n"
      ],
      "metadata": {
        "colab": {
          "base_uri": "https://localhost:8080/",
          "height": 472
        },
        "id": "pPFfnkyQpVHo",
        "outputId": "cc274611-f44f-4778-c1f8-025724c35875"
      },
      "execution_count": null,
      "outputs": [
        {
          "output_type": "display_data",
          "data": {
            "text/plain": [
              "<Figure size 640x480 with 2 Axes>"
            ],
            "image/png": "[encoded data removed]"
          },
          "metadata": {}
        }
      ]
    },
    {
      "cell_type": "code",
      "source": [
        "#@title Using Capped Dataset\n",
        "\n",
        "#Split Dataset Capped\n",
        "\n",
        "train_data_capped, test_data_capped = train_test_split(dataset_capped, test_size = 0.2, random_state=42)\n",
        "print(train_data_capped.shape)\n",
        "print(test_data_capped.shape)\n",
        "\n",
        "#train_data\n",
        "train_data_capped_gaussian = np.array(train_data_capped)[:, 1:]\n",
        "train_label_capped_gaussian = np.array(train_data_capped)[:, 0]\n",
        "#test-data\n",
        "test_data_gaussian = np.array(test_data_capped)[:, 1:]\n",
        "test_label_gaussian = np.array(test_data_capped)[:, 0]\n",
        "\n",
        "#normalisasi min-max scaller untuk train data dan test data\n",
        "max_element_column = np.max(train_data_capped_gaussian, axis=0)\n",
        "min_element_column = np.amin(train_data_capped_gaussian, axis=0)\n",
        "new_min = 0\n",
        "new_max = 1\n",
        "\n",
        "train_data_scaled = ((train_data_capped_gaussian - min_element_column) * (new_max-new_min) / (max_element_column - min_element_column)) + new_min\n",
        "\n",
        "test_data_scaled = ((test_data_gaussian - min_element_column) * (new_max-new_min) / (max_element_column - min_element_column)) + new_min"
      ],
      "metadata": {
        "colab": {
          "base_uri": "https://localhost:8080/"
        },
        "id": "EvSIkSZBe6Dq",
        "outputId": "881155fe-3942-4fd6-a3e5-7821cc7d4a3c"
      },
      "execution_count": null,
      "outputs": [
        {
          "output_type": "stream",
          "name": "stdout",
          "text": [
            "(455, 31)\n",
            "(114, 31)\n"
          ]
        }
      ]
    },
    {
      "cell_type": "code",
      "source": [
        "#@title Modelling Process\n",
        "from sklearn.naive_bayes import GaussianNB\n",
        "\n",
        "classifier = GaussianNB()\n",
        "\n",
        "classifier.fit(train_data_scaled, train_label_capped_gaussian)\n",
        "\n",
        "hasil = classifier.predict(test_data_scaled)\n",
        "print(hasil)"
      ],
      "metadata": {
        "colab": {
          "base_uri": "https://localhost:8080/"
        },
        "id": "U9wIgndYk2gX",
        "outputId": "7ec8b487-df2f-4527-8441-da5c0fd16413"
      },
      "execution_count": null,
      "outputs": [
        {
          "output_type": "stream",
          "name": "stdout",
          "text": [
            "['B' 'M' 'M' 'B' 'B' 'M' 'M' 'M' 'M' 'B' 'B' 'M' 'B' 'M' 'B' 'M' 'B' 'B'\n",
            " 'B' 'M' 'B' 'B' 'M' 'B' 'B' 'B' 'B' 'B' 'B' 'M' 'B' 'B' 'B' 'B' 'B' 'B'\n",
            " 'M' 'B' 'M' 'B' 'B' 'M' 'B' 'B' 'B' 'B' 'B' 'B' 'B' 'B' 'M' 'M' 'B' 'B'\n",
            " 'B' 'B' 'B' 'M' 'M' 'B' 'B' 'M' 'M' 'B' 'B' 'B' 'M' 'M' 'B' 'B' 'M' 'M'\n",
            " 'B' 'M' 'B' 'B' 'B' 'B' 'B' 'B' 'M' 'B' 'B' 'M' 'M' 'M' 'M' 'M' 'B' 'B'\n",
            " 'B' 'B' 'B' 'B' 'B' 'B' 'M' 'M' 'B' 'M' 'M' 'B' 'M' 'M' 'B' 'B' 'B' 'M'\n",
            " 'B' 'B' 'M' 'B' 'B' 'M']\n"
          ]
        }
      ]
    },
    {
      "cell_type": "code",
      "source": [
        "#@title Model Evaluation using Sklearn\n",
        "from sklearn.metrics import accuracy_score, precision_score, recall_score, f1_score\n",
        "\n",
        "# Menghitung metrik\n",
        "accuracy = accuracy_score(test_label_gaussian, hasil)\n",
        "precision = precision_score(test_label_gaussian, hasil, average='macro')\n",
        "recall = recall_score(test_label_gaussian, hasil, average='macro')\n",
        "f1 = f1_score(test_label_gaussian, hasil, average='macro')\n",
        "\n",
        "# Menampilkan hasil\n",
        "print(\"Accuracy:\", accuracy)\n",
        "print(\"Precision:\", precision)\n",
        "print(\"Recall:\", recall)\n",
        "print(\"F1-Score:\", f1)\n"
      ],
      "metadata": {
        "colab": {
          "base_uri": "https://localhost:8080/"
        },
        "id": "ksYVYiNIl05i",
        "outputId": "f6b47d91-ee72-408b-8820-9cc47538c6d5"
      },
      "execution_count": null,
      "outputs": [
        {
          "output_type": "stream",
          "name": "stdout",
          "text": [
            "Accuracy: 0.9649122807017544\n",
            "Precision: 0.9672569328433009\n",
            "Recall: 0.9580740255486406\n",
            "F1-Score: 0.9623015873015872\n"
          ]
        }
      ]
    },
    {
      "cell_type": "code",
      "source": [
        "from sklearn.metrics import confusion_matrix, ConfusionMatrixDisplay, classification_report\n",
        "\n",
        "# Get unique class labels from both y_test and y_pred\n",
        "class_names = sorted(list(set(test_label_gaussian) | set(hasil)))\n",
        "\n",
        "# Menghitung confusion matrix dari class data testing dengan class hasil prediksi\n",
        "cm = confusion_matrix(test_label_gaussian, hasil)\n",
        "\n",
        "# Menampilkan confusion matrix\n",
        "disp = ConfusionMatrixDisplay(confusion_matrix=cm, display_labels=class_names)\n",
        "disp.plot(cmap=plt.cm.Blues)\n",
        "plt.title(\"Confusion Matrix\")\n",
        "plt.show()\n"
      ],
      "metadata": {
        "colab": {
          "base_uri": "https://localhost:8080/",
          "height": 472
        },
        "id": "7jzl8zbpnkG9",
        "outputId": "f4ee780f-f3af-4682-efb1-cce30c72221b"
      },
      "execution_count": null,
      "outputs": [
        {
          "output_type": "display_data",
          "data": {
            "text/plain": [
              "<Figure size 640x480 with 2 Axes>"
            ],
            "image/png": "[encoded data removed]"
          },
          "metadata": {}
        }
      ]
    },
    {
      "cell_type": "markdown",
      "source": [
        "Ada perbedaan yang cukup banyak antara data yang dicapped dan data original\n",
        "   \n",
        "Dataset original:  \n",
        "Accuracy: 0.9210526315789473  \n",
        "Precision: 0.9215384615384616  \n",
        "Recall: 0.9077380952380952  \n",
        "F1-Score: 0.9138321995464853  \n",
        "  \n",
        "Dataset dengan Outlier Handling IQR:  \n",
        "Accuracy: 0.9649122807017544  \n",
        "Precision: 0.9672569328433009  \n",
        "Recall: 0.9580740255486406  \n",
        "F1-Score: 0.9623015873015872  "
      ],
      "metadata": {
        "id": "1yBftgGPXuf_"
      }
    },
    {
      "cell_type": "markdown",
      "source": [
        "# KNN - Nearest Neighbour"
      ],
      "metadata": {
        "id": "QUfl1g6Ppqmy"
      }
    },
    {
      "cell_type": "code",
      "source": [
        "#@title Split Label dan Data\n",
        "#train_data\n",
        "train_data_knn = np.array(train_data)[:, 1:]\n",
        "train_label_knn = np.array(train_data)[:, 0]\n",
        "#test-data\n",
        "test_data_knn = np.array(test_data)[:, 1:]\n",
        "test_label_knn = np.array(test_data)[:, 0]"
      ],
      "metadata": {
        "id": "69To8xuyqbFh"
      },
      "execution_count": null,
      "outputs": []
    },
    {
      "cell_type": "code",
      "source": [
        "#@title Normalisasi Data\n",
        "from sklearn.preprocessing import MinMaxScaler\n",
        "scaler = MinMaxScaler(feature_range=(0, 1))\n",
        "scaler.fit(train_data_knn)\n",
        "X_train = scaler.transform(train_data_knn)\n",
        "X_test = scaler.transform(test_data_knn)\n",
        "print(X_train)\n",
        "print()\n",
        "print(X_test)"
      ],
      "metadata": {
        "colab": {
          "base_uri": "https://localhost:8080/"
        },
        "id": "qmApXTePp6ig",
        "outputId": "f8dee9d3-075e-48a0-d61d-16a841821e9a"
      },
      "execution_count": null,
      "outputs": [
        {
          "output_type": "stream",
          "name": "stdout",
          "text": [
            "[[0.42780065 0.45755834 0.40709004 ... 0.34278351 0.27261975 0.19336219]\n",
            " [0.25268588 0.0906324  0.24227766 ... 0.32271478 0.24876799 0.08310376]\n",
            " [0.27776989 0.39431857 0.26839887 ... 0.19247423 0.18194362 0.17361931]\n",
            " ...\n",
            " [0.28486914 0.52147447 0.26826066 ... 0.20347079 0.14606742 0.0516201 ]\n",
            " [0.34166312 0.3659114  0.33598231 ... 0.46013746 0.19101124 0.15440115]\n",
            " [0.4770221  0.38180588 0.46997443 ... 0.62783505 0.2085551  0.13741309]]\n",
            "\n",
            "[[0.20961711 0.03753805 0.20420151 ... 0.30783505 0.28602405 0.19801915]\n",
            " [0.66065597 0.46838011 0.65724553 ... 0.7233677  0.30770747 0.15381084]\n",
            " [0.4348999  0.21508285 0.43196738 ... 0.42989691 0.31302977 0.22668241]\n",
            " ...\n",
            " [0.35728146 0.32566791 0.34869739 ... 0.32969072 0.17859255 0.12849272]\n",
            " [0.38520517 0.23571187 0.38000138 ... 0.43024055 0.36467573 0.27784337]\n",
            " [0.43016707 0.3361515  0.41676456 ... 0.52233677 0.21387739 0.05791683]]\n"
          ]
        }
      ]
    },
    {
      "cell_type": "code",
      "source": [
        "#@title Modelling Process (K-Nearest Neighbors)\n",
        "\n",
        "from sklearn.neighbors import KNeighborsClassifier\n",
        "\n",
        "kNN = KNeighborsClassifier(n_neighbors=7, weights='distance', metric='euclidean')\n",
        "kNN.fit(X_train, train_label_knn)\n",
        "y_pred = kNN.predict(X_test)\n",
        "print(y_pred)"
      ],
      "metadata": {
        "colab": {
          "base_uri": "https://localhost:8080/"
        },
        "id": "-OwVdjxjrWHH",
        "outputId": "08bb8534-a321-48c3-e4b5-c92a580e443b"
      },
      "execution_count": null,
      "outputs": [
        {
          "output_type": "stream",
          "name": "stdout",
          "text": [
            "['B' 'M' 'B' 'B' 'B' 'B' 'M' 'B' 'B' 'B' 'M' 'B' 'M' 'B' 'B' 'B' 'B' 'B'\n",
            " 'M' 'B' 'B' 'B' 'M' 'M' 'M' 'B' 'B' 'M' 'M' 'M' 'M' 'B' 'M' 'M' 'B' 'B'\n",
            " 'B' 'B' 'M' 'B' 'B' 'B' 'M' 'B' 'B' 'M' 'B' 'M' 'B' 'B' 'M' 'M' 'B' 'B'\n",
            " 'B' 'M' 'B' 'B' 'B' 'M' 'B' 'B' 'M' 'B' 'B' 'B' 'M' 'M' 'B' 'M' 'B' 'M'\n",
            " 'M' 'B' 'B' 'B' 'B' 'M' 'B' 'M' 'M' 'M' 'B' 'B' 'B' 'B' 'M' 'M' 'M' 'B'\n",
            " 'M' 'B' 'B' 'B' 'B' 'B' 'B' 'M' 'B' 'B' 'B' 'B' 'B' 'B' 'B' 'B' 'M' 'B'\n",
            " 'M' 'B' 'B' 'B' 'B' 'M']\n"
          ]
        }
      ]
    },
    {
      "cell_type": "code",
      "source": [
        "from sklearn.metrics import confusion_matrix, ConfusionMatrixDisplay, classification_report\n",
        "\n",
        "# Get unique class labels from both y_test and y_pred\n",
        "class_names = sorted(list(set(test_label_knn) | set(y_pred)))\n",
        "\n",
        "# Menghitung confusion matrix dari class data testing dengan class hasil prediksi\n",
        "cm = confusion_matrix(test_label_knn, y_pred)\n",
        "\n",
        "# Menampilkan confusion matrix\n",
        "disp = ConfusionMatrixDisplay(confusion_matrix=cm, display_labels=class_names)\n",
        "disp.plot(cmap=plt.cm.Blues)\n",
        "plt.title(\"Confusion Matrix\")\n",
        "plt.show()\n"
      ],
      "metadata": {
        "colab": {
          "base_uri": "https://localhost:8080/",
          "height": 472
        },
        "id": "8b9w2ExDt_Fk",
        "outputId": "3818b9d9-78ae-45bb-d661-7d68fe5b9015"
      },
      "execution_count": null,
      "outputs": [
        {
          "output_type": "display_data",
          "data": {
            "text/plain": [
              "<Figure size 640x480 with 2 Axes>"
            ],
            "image/png": "[encoded data removed]"
          },
          "metadata": {}
        }
      ]
    },
    {
      "cell_type": "code",
      "source": [
        "#@title Model Evaluation using Sklearn\n",
        "from sklearn.metrics import accuracy_score, precision_score, recall_score, f1_score\n",
        "\n",
        "# Menghitung metrik\n",
        "accuracy = accuracy_score(test_label_knn, y_pred)\n",
        "precision = precision_score(test_label_knn, y_pred, average='macro')\n",
        "recall = recall_score(test_label_knn, y_pred, average='macro')\n",
        "f1 = f1_score(test_label_knn, y_pred, average='macro')\n",
        "\n",
        "# Menampilkan hasil\n",
        "print(\"Accuracy:\", accuracy)\n",
        "print(\"Precision:\", precision)\n",
        "print(\"Recall:\", recall)\n",
        "print(\"F1-Score:\", f1)\n"
      ],
      "metadata": {
        "colab": {
          "base_uri": "https://localhost:8080/"
        },
        "id": "0PVTLFLer76d",
        "outputId": "4c17cebc-8fac-4910-a24e-bed923b86c9f"
      },
      "execution_count": null,
      "outputs": [
        {
          "output_type": "stream",
          "name": "stdout",
          "text": [
            "Accuracy: 0.9649122807017544\n",
            "Precision: 0.9672297297297296\n",
            "Recall: 0.9573412698412699\n",
            "F1-Score: 0.9619111259605746\n"
          ]
        }
      ]
    },
    {
      "cell_type": "code",
      "source": [
        "#@title Using Capped Dataset\n",
        "#train_data\n",
        "train_data_capped_knn = np.array(train_data_capped)[:, 1:]\n",
        "train_label_capped_knn = np.array(train_data_capped)[:, 0]\n",
        "#test-data\n",
        "test_data_capped_knn = np.array(test_data_capped)[:, 1:]\n",
        "test_label_capped_knn = np.array(test_data_capped)[:, 0]\n",
        "\n",
        "#normalisasi min-max scaller untuk train data dan test data\n",
        "scaler = MinMaxScaler(feature_range=(0, 1))\n",
        "scaler.fit(train_data_capped_knn)\n",
        "X_train_capped = scaler.transform(train_data_capped_knn)\n",
        "X_test_capped = scaler.transform(test_data_capped_knn)\n",
        "print(X_train_capped)\n",
        "print()\n",
        "print(X_test_capped)"
      ],
      "metadata": {
        "colab": {
          "base_uri": "https://localhost:8080/"
        },
        "id": "Z6mDcWBRvGNS",
        "outputId": "15711368-ce2d-42f5-c232-ad0c4923416d"
      },
      "execution_count": null,
      "outputs": [
        {
          "output_type": "stream",
          "name": "stdout",
          "text": [
            "[[0.06552721 0.25769361 0.07732252 ... 0.60137457 0.52493594 0.52950153]\n",
            " [0.65620256 0.57017247 0.67420686 ... 0.9975945  0.49931007 0.62190573]\n",
            " [0.07257946 0.14034494 0.08023901 ... 0.174811   0.33845851 0.25313666]\n",
            " ...\n",
            " [0.32317939 0.2404464  0.30146536 ... 0.11453608 0.17602996 0.05222109]\n",
            " [0.30799745 0.33513696 0.30729834 ... 0.62783505 0.31815494 0.42777213]\n",
            " [0.21984426 0.36557322 0.20842225 ... 0.25536082 0.22255076 0.11648016]]\n",
            "\n",
            "[[0.23404672 0.30064254 0.23595106 ... 0.34879725 0.2856298  0.27517803]\n",
            " [0.55090847 0.39228948 0.53834116 ... 0.61477663 0.19436231 0.09198033]\n",
            " [0.38047897 0.33040243 0.38255797 ... 0.52027491 0.25073921 0.21320787]\n",
            " ...\n",
            " [0.18752143 0.17653027 0.1845924  ... 0.33017182 0.2166371  0.19540522]\n",
            " [0.31975121 0.61345959 0.31747048 ... 0.28243986 0.06406466 0.19430315]\n",
            " [0.63857192 0.72404464 0.62441315 ... 0.57010309 0.25684999 0.23007799]]\n"
          ]
        }
      ]
    },
    {
      "cell_type": "code",
      "source": [
        "#@title Modelling Process\n",
        "from sklearn.neighbors import KNeighborsClassifier\n",
        "\n",
        "kNN = KNeighborsClassifier(n_neighbors=8, weights='distance', metric='euclidean')\n",
        "kNN.fit(X_train_capped, train_label_capped_knn)\n",
        "y_pred_capped = kNN.predict(X_test_capped)\n",
        "print(y_pred_capped)"
      ],
      "metadata": {
        "colab": {
          "base_uri": "https://localhost:8080/"
        },
        "id": "x4LJcIUMwaLO",
        "outputId": "dd160a0f-37ee-4905-b4ab-ca52965a8ced"
      },
      "execution_count": null,
      "outputs": [
        {
          "output_type": "stream",
          "name": "stdout",
          "text": [
            "['B' 'M' 'M' 'B' 'B' 'M' 'M' 'M' 'M' 'B' 'B' 'M' 'B' 'M' 'B' 'M' 'B' 'B'\n",
            " 'B' 'M' 'B' 'B' 'M' 'B' 'B' 'B' 'B' 'B' 'B' 'M' 'B' 'B' 'B' 'B' 'B' 'B'\n",
            " 'M' 'B' 'M' 'B' 'B' 'M' 'B' 'B' 'B' 'B' 'B' 'B' 'B' 'B' 'M' 'M' 'B' 'B'\n",
            " 'B' 'B' 'B' 'M' 'M' 'B' 'B' 'M' 'M' 'B' 'B' 'B' 'M' 'M' 'B' 'B' 'M' 'M'\n",
            " 'B' 'M' 'B' 'B' 'B' 'B' 'B' 'B' 'M' 'B' 'M' 'M' 'M' 'M' 'M' 'M' 'B' 'B'\n",
            " 'B' 'B' 'B' 'B' 'B' 'B' 'M' 'M' 'B' 'M' 'M' 'B' 'M' 'M' 'B' 'B' 'B' 'M'\n",
            " 'B' 'B' 'M' 'B' 'B' 'M']\n"
          ]
        }
      ]
    },
    {
      "cell_type": "code",
      "source": [
        "from sklearn.metrics import confusion_matrix, ConfusionMatrixDisplay, classification_report\n",
        "\n",
        "# Get unique class labels from both y_test and y_pred\n",
        "class_names = sorted(list(set(test_label_capped_knn) | set(y_pred_capped)))\n",
        "\n",
        "# Menghitung confusion matrix dari class data testing dengan class hasil prediksi\n",
        "cm = confusion_matrix(test_label_capped_knn, y_pred_capped)\n",
        "\n",
        "# Menampilkan confusion matrix\n",
        "disp = ConfusionMatrixDisplay(confusion_matrix=cm, display_labels=class_names)\n",
        "disp.plot(cmap=plt.cm.Blues)\n",
        "plt.title(\"Confusion Matrix\")\n",
        "plt.show()\n"
      ],
      "metadata": {
        "colab": {
          "base_uri": "https://localhost:8080/",
          "height": 472
        },
        "id": "w-UEtrI_xVoG",
        "outputId": "de17768d-83bf-4c38-c710-67f9b0e08dd7"
      },
      "execution_count": null,
      "outputs": [
        {
          "output_type": "display_data",
          "data": {
            "text/plain": [
              "<Figure size 640x480 with 2 Axes>"
            ],
            "image/png": "[encoded data removed]"
          },
          "metadata": {}
        }
      ]
    },
    {
      "cell_type": "code",
      "source": [
        "#@title Model Evaluation using Sklearn\n",
        "from sklearn.metrics import accuracy_score, precision_score, recall_score, f1_score\n",
        "\n",
        "# Menghitung metrik\n",
        "accuracy = accuracy_score(test_label_capped_knn, y_pred_capped)\n",
        "precision = precision_score(test_label_capped_knn, y_pred_capped, average='macro')\n",
        "recall = recall_score(test_label_capped_knn, y_pred_capped, average='macro')\n",
        "f1 = f1_score(test_label_capped_knn, y_pred_capped, average='macro')\n",
        "\n",
        "# Menampilkan hasil\n",
        "print(\"Accuracy:\", accuracy)\n",
        "print(\"Precision:\", precision)\n",
        "print(\"Recall:\", recall)\n",
        "print(\"F1-Score:\", f1)\n"
      ],
      "metadata": {
        "colab": {
          "base_uri": "https://localhost:8080/"
        },
        "id": "VjIns6nwwt4E",
        "outputId": "ef636524-d635-432d-a9fd-e43f11d68120"
      },
      "execution_count": null,
      "outputs": [
        {
          "output_type": "stream",
          "name": "stdout",
          "text": [
            "Accuracy: 0.9736842105263158\n",
            "Precision: 0.9742063492063492\n",
            "Recall: 0.9697019325253848\n",
            "F1-Score: 0.9718634306869601\n"
          ]
        }
      ]
    },
    {
      "cell_type": "markdown",
      "source": [
        "Ada sedikit perbedaan hasil dari dataset yang di capped outliernya dan yang tidak. Precision dan F1-score terlihat lebih tinggi dari sebelumnya. Tapi recall memiliki nilai yang lebih baik di dataset yang belum di capped. Untuk nilai K yang terbaik dari dataset yang belum di capped ada di 7 dan yang di capping ada di 8.  \n",
        "  \n",
        "Dataset Original:  \n",
        "Accuracy: 0.9649122807017544  \n",
        "Precision: 0.9672297297297296  \n",
        "Recall: 0.9573412698412699  \n",
        "F1-Score: 0.9619111259605746  \n",
        "  \n",
        "Dataset menggunakan Outlier Handling IQR:  \n",
        "Accuracy: 0.9736842105263158  \n",
        "Precision: 0.9742063492063492  \n",
        "Recall: 0.9697019325253848  \n",
        "F1-Score: 0.9718634306869601  \n",
        "Karena ini dataset untuk breast cancer saya mencari recall paling tinggi, agar FN tidak tinggi karena Malignant adalah tumor ganas."
      ],
      "metadata": {
        "id": "qiO2uMxpywgW"
      }
    },
    {
      "cell_type": "markdown",
      "source": [
        "# Neural Network - MLP"
      ],
      "metadata": {
        "id": "1YkLNyvZTbv4"
      }
    },
    {
      "cell_type": "code",
      "source": [
        "#@title Normalisasi Data dan Split\n",
        "\n",
        "#train_data\n",
        "data = train_data.iloc[:, 1:]\n",
        "label = train_data.iloc[:, 0]\n",
        "\n",
        "#test-data\n",
        "data_test = test_data.iloc[:,1:]\n",
        "label_test = test_data.iloc[:, 0]\n",
        "\n",
        "scaler = MinMaxScaler(feature_range=(0, 1))\n",
        "scaler.fit(data)\n",
        "XMLP_train = scaler.transform(data)\n",
        "XMLP_test = scaler.transform(data_test)\n",
        "print(XMLP_train)\n",
        "print()\n",
        "print(XMLP_test)\n"
      ],
      "metadata": {
        "colab": {
          "base_uri": "https://localhost:8080/"
        },
        "id": "DO93Mhdg1UmO",
        "outputId": "913a2c09-66ed-4f82-fc98-b251643d41f6"
      },
      "execution_count": null,
      "outputs": [
        {
          "output_type": "stream",
          "name": "stdout",
          "text": [
            "[[0.42780065 0.45755834 0.40709004 ... 0.34278351 0.27261975 0.19336219]\n",
            " [0.25268588 0.0906324  0.24227766 ... 0.32271478 0.24876799 0.08310376]\n",
            " [0.27776989 0.39431857 0.26839887 ... 0.19247423 0.18194362 0.17361931]\n",
            " ...\n",
            " [0.28486914 0.52147447 0.26826066 ... 0.20347079 0.14606742 0.0516201 ]\n",
            " [0.34166312 0.3659114  0.33598231 ... 0.46013746 0.19101124 0.15440115]\n",
            " [0.4770221  0.38180588 0.46997443 ... 0.62783505 0.2085551  0.13741309]]\n",
            "\n",
            "[[0.20961711 0.03753805 0.20420151 ... 0.30783505 0.28602405 0.19801915]\n",
            " [0.66065597 0.46838011 0.65724553 ... 0.7233677  0.30770747 0.15381084]\n",
            " [0.4348999  0.21508285 0.43196738 ... 0.42989691 0.31302977 0.22668241]\n",
            " ...\n",
            " [0.35728146 0.32566791 0.34869739 ... 0.32969072 0.17859255 0.12849272]\n",
            " [0.38520517 0.23571187 0.38000138 ... 0.43024055 0.36467573 0.27784337]\n",
            " [0.43016707 0.3361515  0.41676456 ... 0.52233677 0.21387739 0.05791683]]\n"
          ]
        }
      ]
    },
    {
      "cell_type": "code",
      "source": [
        "#@title Modelling Process\n",
        "from sklearn.neural_network import MLPClassifier as MLP\n",
        "# Model MLP\n",
        "model = MLP(hidden_layer_sizes=(23, 40), max_iter=1000, activation='relu', learning_rate_init=0.001, solver='sgd', random_state=42)\n",
        "\n",
        "# Training\n",
        "model.fit(XMLP_train, label)\n",
        "\n",
        "# Evaluasi\n",
        "\n",
        "y_pred_MLP = model.predict(XMLP_test)\n",
        "print(y_pred_MLP)\n",
        "print('expected:',label_test)"
      ],
      "metadata": {
        "colab": {
          "base_uri": "https://localhost:8080/"
        },
        "id": "xbMYABfz6Xyl",
        "outputId": "cbde0568-85b1-416b-f079-98fb5b40d76f"
      },
      "execution_count": null,
      "outputs": [
        {
          "output_type": "stream",
          "name": "stdout",
          "text": [
            "['B' 'M' 'B' 'M' 'B' 'B' 'M' 'B' 'B' 'B' 'M' 'B' 'M' 'B' 'B' 'B' 'B' 'B'\n",
            " 'B' 'B' 'B' 'B' 'M' 'M' 'B' 'B' 'B' 'M' 'M' 'M' 'M' 'B' 'M' 'M' 'B' 'B'\n",
            " 'B' 'B' 'M' 'B' 'B' 'B' 'M' 'B' 'B' 'M' 'B' 'M' 'B' 'B' 'M' 'M' 'B' 'B'\n",
            " 'B' 'M' 'B' 'B' 'B' 'M' 'B' 'B' 'M' 'B' 'B' 'B' 'M' 'M' 'B' 'M' 'B' 'M'\n",
            " 'M' 'B' 'B' 'B' 'B' 'M' 'B' 'M' 'M' 'M' 'B' 'B' 'B' 'B' 'M' 'M' 'M' 'B'\n",
            " 'M' 'B' 'B' 'B' 'B' 'B' 'B' 'M' 'B' 'B' 'B' 'B' 'B' 'B' 'B' 'B' 'M' 'B'\n",
            " 'M' 'B' 'B' 'B' 'M' 'M']\n",
            "expected: 120    B\n",
            "250    M\n",
            "375    B\n",
            "99     M\n",
            "455    B\n",
            "      ..\n",
            "381    B\n",
            "534    B\n",
            "448    B\n",
            "205    M\n",
            "75     M\n",
            "Name: diagnosis, Length: 114, dtype: object\n"
          ]
        }
      ]
    },
    {
      "cell_type": "code",
      "source": [
        "from sklearn.metrics import confusion_matrix, ConfusionMatrixDisplay, classification_report\n",
        "\n",
        "# Get unique class labels from both y_test and y_pred\n",
        "class_names = sorted(list(set(label_test) | set(y_pred_MLP)))\n",
        "\n",
        "# Menghitung confusion matrix dari class data testing dengan class hasil prediksi\n",
        "cm = confusion_matrix(label_test, y_pred_MLP)\n",
        "\n",
        "# Menampilkan confusion matrix\n",
        "disp = ConfusionMatrixDisplay(confusion_matrix=cm, display_labels=class_names)\n",
        "disp.plot(cmap=plt.cm.Blues)\n",
        "plt.title(\"Confusion Matrix\")\n",
        "plt.show()\n"
      ],
      "metadata": {
        "colab": {
          "base_uri": "https://localhost:8080/",
          "height": 472
        },
        "id": "BPG1aFuM-UQL",
        "outputId": "429ad53a-6d04-405a-d6a6-90043a17d99e"
      },
      "execution_count": null,
      "outputs": [
        {
          "output_type": "display_data",
          "data": {
            "text/plain": [
              "<Figure size 640x480 with 2 Axes>"
            ],
            "image/png": "[encoded data removed]"
          },
          "metadata": {}
        }
      ]
    },
    {
      "cell_type": "code",
      "source": [
        "#@title Model Evaluation using Sklearn\n",
        "from sklearn.metrics import accuracy_score, precision_score, recall_score, f1_score\n",
        "\n",
        "# Menghitung metrik\n",
        "accuracy = accuracy_score(label_test, y_pred_MLP)\n",
        "precision = precision_score(label_test, y_pred_MLP, average='macro')\n",
        "recall = recall_score(label_test, y_pred_MLP, average='macro')\n",
        "f1 = f1_score(label_test, y_pred_MLP, average='macro')\n",
        "\n",
        "# Menampilkan hasil\n",
        "print(\"Accuracy:\", accuracy)\n",
        "print(\"Precision:\", precision)\n",
        "print(\"Recall:\", recall)\n",
        "print(\"F1-Score:\", f1)\n"
      ],
      "metadata": {
        "colab": {
          "base_uri": "https://localhost:8080/"
        },
        "id": "rfN1Vr1O_Jx3",
        "outputId": "af9bfbe7-31fe-474d-8310-d9f73bd79a0b"
      },
      "execution_count": null,
      "outputs": [
        {
          "output_type": "stream",
          "name": "stdout",
          "text": [
            "Accuracy: 0.9824561403508771\n",
            "Precision: 0.9864864864864865\n",
            "Recall: 0.9761904761904762\n",
            "F1-Score: 0.9809555629802873\n"
          ]
        }
      ]
    },
    {
      "cell_type": "code",
      "source": [
        "#@title Using Data Capped\n",
        "\n",
        "#train_data\n",
        "data_capped = train_data_capped.iloc[:, 1:]\n",
        "label_capped = train_data_capped.iloc[:, 0]\n",
        "\n",
        "#test-data\n",
        "data_test_capped = test_data_capped.iloc[:,1:]\n",
        "label_test_capped = test_data_capped.iloc[:, 0]\n",
        "\n",
        "scaler = MinMaxScaler(feature_range=(0, 1))\n",
        "scaler.fit(data_capped)\n",
        "XMLP_train_capped = scaler.transform(data_capped)\n",
        "XMLP_test_capped = scaler.transform(data_test_capped)\n",
        "print(XMLP_train_capped)\n",
        "print()\n",
        "print(XMLP_test_capped)\n"
      ],
      "metadata": {
        "colab": {
          "base_uri": "https://localhost:8080/"
        },
        "id": "NwqpcTOgMMz6",
        "outputId": "b577f208-b24e-4677-f27a-348e1fd314d7"
      },
      "execution_count": null,
      "outputs": [
        {
          "output_type": "stream",
          "name": "stdout",
          "text": [
            "[[0.06552721 0.25769361 0.07732252 ... 0.60137457 0.52493594 0.52950153]\n",
            " [0.65620256 0.57017247 0.67420686 ... 0.9975945  0.49931007 0.62190573]\n",
            " [0.07257946 0.14034494 0.08023901 ... 0.174811   0.33845851 0.25313666]\n",
            " ...\n",
            " [0.32317939 0.2404464  0.30146536 ... 0.11453608 0.17602996 0.05222109]\n",
            " [0.30799745 0.33513696 0.30729834 ... 0.62783505 0.31815494 0.42777213]\n",
            " [0.21984426 0.36557322 0.20842225 ... 0.25536082 0.22255076 0.11648016]]\n",
            "\n",
            "[[0.23404672 0.30064254 0.23595106 ... 0.34879725 0.2856298  0.27517803]\n",
            " [0.55090847 0.39228948 0.53834116 ... 0.61477663 0.19436231 0.09198033]\n",
            " [0.38047897 0.33040243 0.38255797 ... 0.52027491 0.25073921 0.21320787]\n",
            " ...\n",
            " [0.18752143 0.17653027 0.1845924  ... 0.33017182 0.2166371  0.19540522]\n",
            " [0.31975121 0.61345959 0.31747048 ... 0.28243986 0.06406466 0.19430315]\n",
            " [0.63857192 0.72404464 0.62441315 ... 0.57010309 0.25684999 0.23007799]]\n"
          ]
        }
      ]
    },
    {
      "cell_type": "code",
      "source": [
        "#@title Modelling Process\n",
        "from sklearn.neural_network import MLPClassifier as MLP\n",
        "# Model MLP\n",
        "model = MLP(hidden_layer_sizes=(30, 15), max_iter=10000, activation='relu', learning_rate_init=0.001, solver='sgd', random_state=42, alpha=0.001)\n",
        "\n",
        "# Training\n",
        "model.fit(XMLP_train_capped, label_capped)\n",
        "\n",
        "# Evaluasi\n",
        "\n",
        "y_pred_MLP_capped = model.predict(XMLP_test_capped)\n",
        "print(y_pred_MLP_capped)\n",
        "print('expected:',label_test_capped)"
      ],
      "metadata": {
        "colab": {
          "base_uri": "https://localhost:8080/"
        },
        "id": "26l6UlOtM5u8",
        "outputId": "1c6f494b-eb5a-48aa-fe4e-9970fc39f636"
      },
      "execution_count": null,
      "outputs": [
        {
          "output_type": "stream",
          "name": "stdout",
          "text": [
            "['B' 'M' 'M' 'B' 'B' 'M' 'M' 'M' 'B' 'B' 'B' 'M' 'B' 'M' 'B' 'M' 'B' 'B'\n",
            " 'B' 'M' 'B' 'B' 'M' 'B' 'B' 'B' 'B' 'B' 'B' 'M' 'B' 'B' 'B' 'B' 'B' 'B'\n",
            " 'M' 'B' 'M' 'B' 'B' 'M' 'B' 'B' 'B' 'B' 'B' 'B' 'B' 'B' 'M' 'M' 'B' 'B'\n",
            " 'B' 'B' 'B' 'M' 'M' 'B' 'B' 'M' 'M' 'B' 'B' 'B' 'M' 'M' 'B' 'B' 'M' 'M'\n",
            " 'B' 'M' 'B' 'B' 'B' 'M' 'B' 'B' 'M' 'B' 'M' 'M' 'M' 'M' 'M' 'M' 'B' 'B'\n",
            " 'B' 'B' 'B' 'B' 'B' 'B' 'M' 'M' 'B' 'M' 'M' 'B' 'M' 'M' 'B' 'B' 'B' 'M'\n",
            " 'B' 'B' 'M' 'B' 'B' 'M']\n",
            "expected: 204    B\n",
            "70     M\n",
            "131    M\n",
            "431    B\n",
            "540    B\n",
            "      ..\n",
            "486    B\n",
            "75     M\n",
            "249    B\n",
            "238    B\n",
            "265    M\n",
            "Name: diagnosis, Length: 114, dtype: object\n"
          ]
        }
      ]
    },
    {
      "cell_type": "code",
      "source": [
        "from sklearn.metrics import confusion_matrix, ConfusionMatrixDisplay, classification_report\n",
        "\n",
        "# Get unique class labels from both y_test and y_pred\n",
        "class_names = sorted(list(set(label_test_capped) | set(y_pred_MLP_capped)))\n",
        "\n",
        "# Menghitung confusion matrix dari class data testing dengan class hasil prediksi\n",
        "cm = confusion_matrix(label_test_capped, y_pred_MLP_capped)\n",
        "\n",
        "# Menampilkan confusion matrix\n",
        "disp = ConfusionMatrixDisplay(confusion_matrix=cm, display_labels=class_names)\n",
        "disp.plot(cmap=plt.cm.Blues)\n",
        "plt.title(\"Confusion Matrix\")\n",
        "plt.show()\n"
      ],
      "metadata": {
        "colab": {
          "base_uri": "https://localhost:8080/",
          "height": 472
        },
        "id": "5LyhKgTuNDLC",
        "outputId": "77e5ce38-756d-4f50-c785-13b56a1b3dbb"
      },
      "execution_count": null,
      "outputs": [
        {
          "output_type": "display_data",
          "data": {
            "text/plain": [
              "<Figure size 640x480 with 2 Axes>"
            ],
            "image/png": "[encoded data removed]"
          },
          "metadata": {}
        }
      ]
    },
    {
      "cell_type": "code",
      "source": [
        "#@title Model Evaluation using Sklearn\n",
        "from sklearn.metrics import accuracy_score, precision_score, recall_score, f1_score\n",
        "\n",
        "# Menghitung metrik\n",
        "accuracy = accuracy_score(label_test_capped, y_pred_MLP_capped)\n",
        "precision = precision_score(label_test_capped, y_pred_MLP_capped, average='macro')\n",
        "recall = recall_score(label_test_capped, y_pred_MLP_capped, average='macro')\n",
        "f1 = f1_score(label_test_capped, y_pred_MLP_capped, average='macro')\n",
        "\n",
        "# Menampilkan hasil\n",
        "print(\"Accuracy:\", accuracy)\n",
        "print(\"Precision:\", precision)\n",
        "print(\"Recall:\", recall)\n",
        "print(\"F1-Score:\", f1)\n"
      ],
      "metadata": {
        "colab": {
          "base_uri": "https://localhost:8080/"
        },
        "id": "ODMoUHz_NSsD",
        "outputId": "36817a30-84d3-4511-abb1-cc3b96efc7ce"
      },
      "execution_count": null,
      "outputs": [
        {
          "output_type": "stream",
          "name": "stdout",
          "text": [
            "Accuracy: 0.9912280701754386\n",
            "Precision: 0.9930555555555556\n",
            "Recall: 0.9883720930232558\n",
            "F1-Score: 0.99062114356232\n"
          ]
        }
      ]
    },
    {
      "cell_type": "markdown",
      "source": [
        "Untuk perbedaan antara data original dengan yang sudah digunakan outlier handling ada satu kemajuan, yaitu pengurangan FN dan model evaluation recall sedikit bertambah.  \n",
        "    \n",
        "Data Original:  \n",
        "Accuracy: 0.9824561403508771  \n",
        "Precision: 0.9864864864864865  \n",
        "Recall: 0.9761904761904762  \n",
        "F1-Score: 0.9809555629802873  \n",
        "  \n",
        "Data yang menggunakan Outlier Handling IQR:  \n",
        "Accuracy: 0.9912280701754386  \n",
        "Precision: 0.9930555555555556  \n",
        "Recall: 0.9883720930232558  \n",
        "F1-Score: 0.99062114356232  "
      ],
      "metadata": {
        "id": "tPn3dHAL9LjH"
      }
    },
    {
      "cell_type": "markdown",
      "source": [
        "#Kesimpulan  \n",
        "Model Processing terbaik pada studi kasus klasifikasi kanker payudara (Breast Cancer) diperoleh menggunakan algoritma **Multi-Layer Perceptron** (MLP Neural Network).\n",
        "Berdasarkan hasil evaluasi terhadap model, diperoleh metrik sebagai berikut:\n",
        "\n",
        "**Accuracy: 0.9912280701754386**  \n",
        "**Precision: 0.9930555555555556**  \n",
        "**Recall: 0.9883720930232558**  \n",
        "**F1-Score: 0.99062114356232**\n",
        "\n",
        "Hasil ini menunjukkan bahwa model MLP memiliki performa yang baik dan mampu melakukan klasifikasi dengan tingkat kesalahan yang sangat rendah. Nilai recall yang tinggi menunjukkan model efektif dalam mendeteksi kasus Malignant, yang merupakan aspek kritis dalam diagnosis breast cancer."
      ],
      "metadata": {
        "id": "r-fVt0Xu-L_d"
      }
    }
  ]
}